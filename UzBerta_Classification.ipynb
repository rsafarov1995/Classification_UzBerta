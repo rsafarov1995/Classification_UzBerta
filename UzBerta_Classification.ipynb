{
 "cells": [
  {
   "cell_type": "code",
   "execution_count": 1,
   "id": "8bb8ff4b-b39c-4275-b8ca-fc9cb8421959",
   "metadata": {},
   "outputs": [],
   "source": [
    "from sklearn.linear_model import SGDClassifier, LinearRegression\n",
    "from sklearn.ensemble import RandomForestClassifier, RandomForestRegressor \n",
    "from sklearn.ensemble import GradientBoostingClassifier, GradientBoostingRegressor\n",
    "from sklearn.neighbors import KNeighborsClassifier, KNeighborsRegressor\n",
    "import numpy as np\n",
    "import pandas as pd\n",
    "from sklearn.model_selection import train_test_split\n",
    "from sklearn.model_selection import cross_val_score\n",
    "import torch\n",
    "import transformers as ppb\n",
    "import warnings\n",
    "warnings.filterwarnings('ignore')"
   ]
  },
  {
   "cell_type": "code",
   "execution_count": 2,
   "id": "2cd73c31-e532-4038-aeb9-70303f537b51",
   "metadata": {},
   "outputs": [],
   "source": [
    "from transformers import AutoModelForMaskedLM, AutoTokenizer, pipeline, RobertaModel, RobertaTokenizer\n",
    "#from bertviz import head_view\n",
    "\n",
    "model = AutoModelForMaskedLM.from_pretrained(\"rifkat/uztext_568Mb_Roberta_BPE\")\n",
    "tokenizer = AutoTokenizer.from_pretrained(\"rifkat/uztext_568Mb_Roberta_BPE\")\n",
    "\n",
    "fill_mask = pipeline('fill-mask', model=model, tokenizer=tokenizer)"
   ]
  },
  {
   "cell_type": "code",
   "execution_count": 3,
   "id": "b8be5425-06ca-4c40-9995-a0af39ec2a33",
   "metadata": {},
   "outputs": [],
   "source": [
    "import pandas as pd\n",
    "from pandas import ExcelWriter\n",
    "from pandas import ExcelFile\n",
    "data = pd.read_excel('classuztex.xlsx', engine='openpyxl',header=None)"
   ]
  },
  {
   "cell_type": "code",
   "execution_count": 4,
   "id": "7026fa4f-d8d7-45cf-9e5d-9643a766fb27",
   "metadata": {},
   "outputs": [],
   "source": [
    "data = data.sample(frac=1).reset_index(drop=True)"
   ]
  },
  {
   "cell_type": "code",
   "execution_count": 5,
   "id": "11129d2a-29dc-47ac-a719-7dd7ec3118ad",
   "metadata": {},
   "outputs": [
    {
     "data": {
      "text/html": [
       "<div>\n",
       "<style scoped>\n",
       "    .dataframe tbody tr th:only-of-type {\n",
       "        vertical-align: middle;\n",
       "    }\n",
       "\n",
       "    .dataframe tbody tr th {\n",
       "        vertical-align: top;\n",
       "    }\n",
       "\n",
       "    .dataframe thead th {\n",
       "        text-align: right;\n",
       "    }\n",
       "</style>\n",
       "<table border=\"1\" class=\"dataframe\">\n",
       "  <thead>\n",
       "    <tr style=\"text-align: right;\">\n",
       "      <th></th>\n",
       "      <th>0</th>\n",
       "      <th>1</th>\n",
       "    </tr>\n",
       "  </thead>\n",
       "  <tbody>\n",
       "    <tr>\n",
       "      <th>0</th>\n",
       "      <td>LG компанияси 1,7 миллион долларлик 325 дюймли...</td>\n",
       "      <td>10</td>\n",
       "    </tr>\n",
       "    <tr>\n",
       "      <th>1</th>\n",
       "      <td>Captiva 5. Янги модел ҳақида батафсил .</td>\n",
       "      <td>10</td>\n",
       "    </tr>\n",
       "    <tr>\n",
       "      <th>2</th>\n",
       "      <td>Шаҳрам Ғиёсов нима сабабдан ҳаваскор боксга қа...</td>\n",
       "      <td>7</td>\n",
       "    </tr>\n",
       "    <tr>\n",
       "      <th>3</th>\n",
       "      <td>Соч тўкилиши қандай содир бўлади?.</td>\n",
       "      <td>5</td>\n",
       "    </tr>\n",
       "    <tr>\n",
       "      <th>4</th>\n",
       "      <td>Ўзбекистон Москвада Афғонистон юзасидан музока...</td>\n",
       "      <td>2</td>\n",
       "    </tr>\n",
       "    <tr>\n",
       "      <th>...</th>\n",
       "      <td>...</td>\n",
       "      <td>...</td>\n",
       "    </tr>\n",
       "    <tr>\n",
       "      <th>295</th>\n",
       "      <td>Чекиш таъсири остида 25дан ортиқ касаллик куча...</td>\n",
       "      <td>5</td>\n",
       "    </tr>\n",
       "    <tr>\n",
       "      <th>296</th>\n",
       "      <td>Рухшона турмуш ўртоғи билан ажрашганини маълум...</td>\n",
       "      <td>8</td>\n",
       "    </tr>\n",
       "    <tr>\n",
       "      <th>297</th>\n",
       "      <td>Telegram ва TikTok ишида узилишлар кузатилди .</td>\n",
       "      <td>10</td>\n",
       "    </tr>\n",
       "    <tr>\n",
       "      <th>298</th>\n",
       "      <td>Таниқли актёр Бельмондо оламдан ўтди.</td>\n",
       "      <td>8</td>\n",
       "    </tr>\n",
       "    <tr>\n",
       "      <th>299</th>\n",
       "      <td>«Ташкент сити» КВН бўйича Ўзбекистон терма жам...</td>\n",
       "      <td>8</td>\n",
       "    </tr>\n",
       "  </tbody>\n",
       "</table>\n",
       "<p>300 rows × 2 columns</p>\n",
       "</div>"
      ],
      "text/plain": [
       "                                                     0   1\n",
       "0    LG компанияси 1,7 миллион долларлик 325 дюймли...  10\n",
       "1             Captiva 5. Янги модел ҳақида батафсил .   10\n",
       "2    Шаҳрам Ғиёсов нима сабабдан ҳаваскор боксга қа...   7\n",
       "3                  Соч тўкилиши қандай содир бўлади?.    5\n",
       "4    Ўзбекистон Москвада Афғонистон юзасидан музока...   2\n",
       "..                                                 ...  ..\n",
       "295  Чекиш таъсири остида 25дан ортиқ касаллик куча...   5\n",
       "296  Рухшона турмуш ўртоғи билан ажрашганини маълум...   8\n",
       "297    Telegram ва TikTok ишида узилишлар кузатилди .   10\n",
       "298             Таниқли актёр Бельмондо оламдан ўтди.    8\n",
       "299  «Ташкент сити» КВН бўйича Ўзбекистон терма жам...   8\n",
       "\n",
       "[300 rows x 2 columns]"
      ]
     },
     "execution_count": 5,
     "metadata": {},
     "output_type": "execute_result"
    }
   ],
   "source": [
    "data"
   ]
  },
  {
   "cell_type": "code",
   "execution_count": 7,
   "id": "94b527c8-4ff2-4a3f-ab6e-975c4fda3706",
   "metadata": {},
   "outputs": [],
   "source": [
    "tokenized = data[0].apply((lambda x: tokenizer.encode(x, add_special_tokens=True)))\n"
   ]
  },
  {
   "cell_type": "code",
   "execution_count": 8,
   "id": "8ac12bc0-1bb4-40c7-9a53-c840f3ab4a94",
   "metadata": {},
   "outputs": [],
   "source": [
    "def token_model(tokenized, model):\n",
    "    max_len = 0\n",
    "    for i in tokenized.values:\n",
    "        if len(i) > max_len:\n",
    "            max_len = len(i)\n",
    "    padded = np.array([i + [0]*(max_len-len(i)) for i in tokenized.values])\n",
    "    attention_mask = np.where(padded != 0, 1, 0)\n",
    "    input_ids = torch.tensor(padded)  \n",
    "    attention_mask = torch.tensor(attention_mask)\n",
    "\n",
    "    with torch.no_grad():\n",
    "        last_hidden_states = model(input_ids, attention_mask=attention_mask)\n",
    "    \n",
    "    target = last_hidden_states[0][:,0,:].numpy()\n",
    "    return target"
   ]
  },
  {
   "cell_type": "code",
   "execution_count": 9,
   "id": "8c3d2ff4-058d-4ceb-962c-d46a8afd0f03",
   "metadata": {},
   "outputs": [],
   "source": [
    "target = token_model(tokenized,model)"
   ]
  },
  {
   "cell_type": "code",
   "execution_count": 11,
   "id": "05e11515-ae31-4893-990f-4dbe9e4778c0",
   "metadata": {},
   "outputs": [],
   "source": [
    "labels = data[1]\n",
    "labels = np.array(labels)"
   ]
  },
  {
   "cell_type": "code",
   "execution_count": 12,
   "id": "dd53b507-66d7-4b5f-9da1-9e659adac802",
   "metadata": {},
   "outputs": [],
   "source": [
    "train_features, test_features, train_labels, test_labels = train_test_split(target, labels, test_size = 0.3, random_state = 42)"
   ]
  },
  {
   "cell_type": "code",
   "execution_count": 13,
   "id": "c880e676-4976-4d02-8ca1-74ff71b34538",
   "metadata": {},
   "outputs": [
    {
     "data": {
      "text/plain": [
       "array([10,  6,  9,  5,  4,  9,  5,  3, 10,  1,  8,  1,  5, 10,  5,  8,  9,\n",
       "        8,  7,  9,  1,  4,  2,  8,  2,  7, 10, 10, 10,  4,  7,  5,  1, 10,\n",
       "        2,  9,  6, 10,  9,  4,  4,  7,  7,  3,  7,  3,  8,  4,  7,  7,  9,\n",
       "        1,  5,  4,  1,  2,  3,  5,  5,  1,  8,  6,  8,  4,  6,  3,  4,  9,\n",
       "        8,  3,  8,  5,  2, 10,  5,  4,  8, 10,  6,  6,  5,  4,  4,  6,  8,\n",
       "        8,  6, 10,  5,  5,  9, 10, 10,  4,  1,  2,  2,  7,  9, 10,  7,  9,\n",
       "        1,  7,  2,  6,  8, 10,  8,  7,  2,  4,  4, 10,  1,  1,  6,  9,  8,\n",
       "        3,  7,  6, 10,  5,  5,  7,  5,  5,  7,  5,  1,  6,  3, 10,  7,  2,\n",
       "        5,  8,  1,  3,  5,  9,  7,  4, 10,  9,  7,  2,  9,  1,  9,  6,  6,\n",
       "        6,  7,  5,  7,  1,  8,  5, 10, 10,  3, 10,  5,  8,  6,  6,  4,  4,\n",
       "        8,  2,  3,  3,  7,  1,  6,  1,  9,  4,  2,  3,  5,  4,  8,  4,  3,\n",
       "        2,  3,  9, 10,  3,  4,  9,  1,  1,  4,  5,  9,  3,  7,  8,  1,  8,\n",
       "        1, 10,  3,  1, 10,  8])"
      ]
     },
     "execution_count": 13,
     "metadata": {},
     "output_type": "execute_result"
    }
   ],
   "source": [
    "train_labels"
   ]
  },
  {
   "cell_type": "code",
   "execution_count": 14,
   "id": "53eb0e9c-1d9b-4880-abce-c67afe3fbd3f",
   "metadata": {},
   "outputs": [],
   "source": [
    "train_labels=np.array(train_labels,dtype=int)"
   ]
  },
  {
   "cell_type": "code",
   "execution_count": 15,
   "id": "2fdd6418-894d-4691-af98-a582ce6b65fd",
   "metadata": {},
   "outputs": [],
   "source": [
    "y = np.array(train_labels).reshape((-1, ))\n",
    "y_test = np.array(test_labels).reshape((-1, ))"
   ]
  },
  {
   "cell_type": "code",
   "execution_count": 16,
   "id": "ebd7d7d1-e7b4-4a50-be2c-74ab7e720352",
   "metadata": {},
   "outputs": [],
   "source": [
    "from sklearn.metrics import accuracy_score,f1_score\n",
    "# Takes in a model, trains the model, and evaluates the model on the test set\n",
    "def fit_and_evaluate(model):\n",
    "    \n",
    "    # Train the model\n",
    "    model.fit(train_features, train_labels)\n",
    "    \n",
    "    # Make predictions and evalute\n",
    "    model_pred = model.predict(test_features)\n",
    "    #model_mae = mae(test_labels, model_pred)\n",
    "    model_acc = accuracy_score(test_labels, model_pred)\n",
    "    # Return the performance metric\n",
    "    return model_acc"
   ]
  },
  {
   "cell_type": "code",
   "execution_count": 17,
   "id": "09eb23d9-2dab-4ef1-a054-de3543fc33b9",
   "metadata": {},
   "outputs": [
    {
     "data": {
      "text/plain": [
       "0.6111111111111112"
      ]
     },
     "execution_count": 17,
     "metadata": {},
     "output_type": "execute_result"
    }
   ],
   "source": [
    "knn = KNeighborsClassifier(n_neighbors=5)\n",
    "knn.fit(train_features, train_labels)\n",
    "knn.score(test_features,  test_labels.astype(int))"
   ]
  },
  {
   "cell_type": "code",
   "execution_count": 18,
   "id": "213c7fdb-f4ff-4e30-bfef-de9ffbf0e36d",
   "metadata": {},
   "outputs": [
    {
     "data": {
      "text/plain": [
       "0.6888888888888889"
      ]
     },
     "execution_count": 18,
     "metadata": {},
     "output_type": "execute_result"
    }
   ],
   "source": [
    "SGD = SGDClassifier()\n",
    "SGD.fit(train_features, train_labels)\n",
    "SGD.score(test_features,  test_labels.astype(int))"
   ]
  },
  {
   "cell_type": "code",
   "execution_count": 19,
   "id": "b063a669-7f7a-4d2a-8d26-26b8e4e92dab",
   "metadata": {},
   "outputs": [
    {
     "data": {
      "text/plain": [
       "0.8333333333333334"
      ]
     },
     "execution_count": 19,
     "metadata": {},
     "output_type": "execute_result"
    }
   ],
   "source": [
    "RFC = RandomForestClassifier()\n",
    "RFC.fit(train_features, train_labels)\n",
    "RFC.score(test_features,  test_labels.astype(int))\n"
   ]
  },
  {
   "cell_type": "code",
   "execution_count": null,
   "id": "aa6ef5a3-1d9e-4f09-b6f8-169bfc0c203d",
   "metadata": {},
   "outputs": [],
   "source": []
  }
 ],
 "metadata": {
  "kernelspec": {
   "display_name": "Transformer",
   "language": "python",
   "name": "transformer"
  },
  "language_info": {
   "codemirror_mode": {
    "name": "ipython",
    "version": 3
   },
   "file_extension": ".py",
   "mimetype": "text/x-python",
   "name": "python",
   "nbconvert_exporter": "python",
   "pygments_lexer": "ipython3",
   "version": "3.8.10"
  }
 },
 "nbformat": 4,
 "nbformat_minor": 5
}
